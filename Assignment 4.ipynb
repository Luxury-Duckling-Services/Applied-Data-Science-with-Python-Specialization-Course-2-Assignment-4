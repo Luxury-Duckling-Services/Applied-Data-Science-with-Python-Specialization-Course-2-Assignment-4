{
 "cells": [
  {
   "cell_type": "code",
   "execution_count": 355,
   "id": "f560469b",
   "metadata": {},
   "outputs": [
    {
     "data": {
      "text/plain": [
       "['https://en.wikipedia.org/wiki/1992%E2%80%9393_UEFA_Champions_League',\n",
       " 'https://en.wikipedia.org/wiki/1993%E2%80%9394_UEFA_Champions_League',\n",
       " 'https://en.wikipedia.org/wiki/1994%E2%80%9395_UEFA_Champions_League',\n",
       " 'https://en.wikipedia.org/wiki/1995%E2%80%9396_UEFA_Champions_League',\n",
       " 'https://en.wikipedia.org/wiki/1996%E2%80%9397_UEFA_Champions_League',\n",
       " 'https://en.wikipedia.org/wiki/1997%E2%80%9398_UEFA_Champions_League',\n",
       " 'https://en.wikipedia.org/wiki/1998%E2%80%9399_UEFA_Champions_League',\n",
       " 'https://en.wikipedia.org/wiki/1999%E2%80%9300_UEFA_Champions_League',\n",
       " 'https://en.wikipedia.org/wiki/2000%E2%80%9301_UEFA_Champions_League',\n",
       " 'https://en.wikipedia.org/wiki/2001%E2%80%9302_UEFA_Champions_League',\n",
       " 'https://en.wikipedia.org/wiki/2002%E2%80%9303_UEFA_Champions_League',\n",
       " 'https://en.wikipedia.org/wiki/2003%E2%80%9304_UEFA_Champions_League',\n",
       " 'https://en.wikipedia.org/wiki/2004%E2%80%9305_UEFA_Champions_League',\n",
       " 'https://en.wikipedia.org/wiki/2005%E2%80%9306_UEFA_Champions_League',\n",
       " 'https://en.wikipedia.org/wiki/2006%E2%80%9307_UEFA_Champions_League',\n",
       " 'https://en.wikipedia.org/wiki/2007%E2%80%9308_UEFA_Champions_League',\n",
       " 'https://en.wikipedia.org/wiki/2008%E2%80%9309_UEFA_Champions_League',\n",
       " 'https://en.wikipedia.org/wiki/2009%E2%80%9310_UEFA_Champions_League',\n",
       " 'https://en.wikipedia.org/wiki/2010%E2%80%9311_UEFA_Champions_League',\n",
       " 'https://en.wikipedia.org/wiki/2011%E2%80%9312_UEFA_Champions_League',\n",
       " 'https://en.wikipedia.org/wiki/2012%E2%80%9313_UEFA_Champions_League',\n",
       " 'https://en.wikipedia.org/wiki/2013%E2%80%9314_UEFA_Champions_League',\n",
       " 'https://en.wikipedia.org/wiki/2014%E2%80%9315_UEFA_Champions_League',\n",
       " 'https://en.wikipedia.org/wiki/2015%E2%80%9316_UEFA_Champions_League',\n",
       " 'https://en.wikipedia.org/wiki/2016%E2%80%9317_UEFA_Champions_League',\n",
       " 'https://en.wikipedia.org/wiki/2017%E2%80%9318_UEFA_Champions_League',\n",
       " 'https://en.wikipedia.org/wiki/2018%E2%80%9319_UEFA_Champions_League',\n",
       " 'https://en.wikipedia.org/wiki/2019%E2%80%9320_UEFA_Champions_League',\n",
       " 'https://en.wikipedia.org/wiki/2020%E2%80%9321_UEFA_Champions_League',\n",
       " 'https://en.wikipedia.org/wiki/2021%E2%80%9322_UEFA_Champions_League']"
      ]
     },
     "execution_count": 355,
     "metadata": {},
     "output_type": "execute_result"
    }
   ],
   "source": [
    "url_prefix = \"https://en.wikipedia.org/wiki/\"\n",
    "url_suffix = \"_UEFA_Champions_League\"\n",
    "years_range = range(1992 , 2023)\n",
    "url_array = []\n",
    "\n",
    "for i in range(len(years_range) - 1):\n",
    "    url_array.append(url_prefix + str(years_range[i]) + \"%E2%80%93\" + str(years_range[i+1])[2:] + url_suffix)\n",
    "\n",
    "url_array"
   ]
  },
  {
   "cell_type": "code",
   "execution_count": 356,
   "id": "e22c365c",
   "metadata": {},
   "outputs": [],
   "source": [
    "# https://stackoverflow.com/questions/3376803/beautifulsoup-find-th-with-text-price-then-get-price-from-next-th\n",
    "# https://stackoverflow.com/questions/68612714/web-scraping-all-text-between-tabletable-i-need-table-in-python\n",
    "# https://www.geeksforgeeks.org/how-to-find-a-html-tag-that-contains-certain-text-using-beautifulsoup/\n",
    "# https://stackoverflow.com/questions/24748445/beautiful-soup-using-regex-to-find-tags\n",
    "# https://www.geeksforgeeks.org/remove-all-style-scripts-and-html-tags-using-beautifulsoup/\n",
    "\n",
    "import re\n",
    "import pandas as pd\n",
    "import requests\n",
    "from bs4 import BeautifulSoup, NavigableString, Tag\n",
    "\n",
    "columns=[\"Pos\" , \"Team\" , \"Pld\" , \"W\" , \"D\" , \"L\" , \"GF\" , \"GA\" , \"GD\" , \"Pts\"]\n",
    "\n",
    "group_stage_92_93 = BeautifulSoup(requests.get( url_array[12] ).content, \"html.parser\")"
   ]
  },
  {
   "cell_type": "code",
   "execution_count": 357,
   "id": "68aec807",
   "metadata": {},
   "outputs": [],
   "source": [
    "group_A_all_info = group_stage_92_93.find_all(lambda tag: tag.name == \"th\" and \"Pld\" in tag.text)[4].parent.parent"
   ]
  },
  {
   "cell_type": "code",
   "execution_count": 358,
   "id": "430c8b80",
   "metadata": {},
   "outputs": [],
   "source": [
    "for abbr_title in group_A_all_info.find_all('abbr'):\n",
    "    abbr_title.parent.decompose()\n",
    "\n",
    "for style_tag in group_A_all_info(['style']):\n",
    "    style_tag.decompose()\n",
    "    \n",
    "group_A_all_info.find_all(lambda tag:tag.name==\"th\" and \"Team\" in tag.text)[0].parent.decompose()"
   ]
  },
  {
   "cell_type": "code",
   "execution_count": 359,
   "id": "1ce4f083",
   "metadata": {},
   "outputs": [],
   "source": [
    "for qualification_th in group_A_all_info.find_all(lambda tag: tag.name == \"th\" and \"Qualification\" in tag.text):\n",
    "    qualification_th.decompose()\n",
    "    \n",
    "for advance_to_td in group_A_all_info.find_all(lambda tag: tag.name == \"td\" and \"Advance to\" in tag.text):\n",
    "    advance_to_td.decompose()\n",
    "    \n",
    "for transfer_to_td in group_A_all_info.find_all(lambda tag: tag.name == \"td\" and \"Transfer to\" in tag.text):\n",
    "    transfer_to_td.decompose()"
   ]
  },
  {
   "cell_type": "code",
   "execution_count": 360,
   "id": "7fef2c75",
   "metadata": {},
   "outputs": [],
   "source": [
    "for head_to_head_td in group_A_all_info.find_all(lambda tag: tag.name == \"td\" and \"—\" in tag.text):\n",
    "    head_to_head_td.decompose()\n",
    "    \n",
    "for head_to_head_td in group_A_all_info.find_all('a', {'href': re.compile('_v_')}):\n",
    "    head_to_head_td.parent.decompose()\n",
    "    \n",
    "for empty_tds in group_A_all_info.find_all(\"td\"):\n",
    "    if empty_tds.text.strip() == \"\":\n",
    "        empty_tds.decompose()"
   ]
  },
  {
   "cell_type": "code",
   "execution_count": 361,
   "id": "21f1df99",
   "metadata": {},
   "outputs": [],
   "source": [
    "for abbr in group_A_all_info.find_all('th', {'scope': \"col\"}):\n",
    "    if len(abbr.find_all(\"span\")) >0:\n",
    "        abbr.decompose()\n",
    "        \n",
    "for empty_ths in group_A_all_info.find_all(\"th\"):\n",
    "    if empty_ths.text.strip() == \"\":\n",
    "        empty_ths.decompose()"
   ]
  },
  {
   "cell_type": "code",
   "execution_count": 362,
   "id": "b3044e86",
   "metadata": {},
   "outputs": [
    {
     "data": {
      "text/html": [
       "<div>\n",
       "<style scoped>\n",
       "    .dataframe tbody tr th:only-of-type {\n",
       "        vertical-align: middle;\n",
       "    }\n",
       "\n",
       "    .dataframe tbody tr th {\n",
       "        vertical-align: top;\n",
       "    }\n",
       "\n",
       "    .dataframe thead th {\n",
       "        text-align: right;\n",
       "    }\n",
       "</style>\n",
       "<table border=\"1\" class=\"dataframe\">\n",
       "  <thead>\n",
       "    <tr style=\"text-align: right;\">\n",
       "      <th></th>\n",
       "      <th>Pos</th>\n",
       "      <th>Team</th>\n",
       "      <th>Pld</th>\n",
       "      <th>W</th>\n",
       "      <th>D</th>\n",
       "      <th>L</th>\n",
       "      <th>GF</th>\n",
       "      <th>GA</th>\n",
       "      <th>GD</th>\n",
       "      <th>Pts</th>\n",
       "    </tr>\n",
       "  </thead>\n",
       "  <tbody>\n",
       "    <tr>\n",
       "      <th>0</th>\n",
       "      <td>1</td>\n",
       "      <td>Arsenal</td>\n",
       "      <td>6</td>\n",
       "      <td>2</td>\n",
       "      <td>4</td>\n",
       "      <td>0</td>\n",
       "      <td>11</td>\n",
       "      <td>6</td>\n",
       "      <td>+5</td>\n",
       "      <td>10</td>\n",
       "    </tr>\n",
       "    <tr>\n",
       "      <th>1</th>\n",
       "      <td>2</td>\n",
       "      <td>PSV Eindhoven</td>\n",
       "      <td>6</td>\n",
       "      <td>3</td>\n",
       "      <td>1</td>\n",
       "      <td>2</td>\n",
       "      <td>6</td>\n",
       "      <td>7</td>\n",
       "      <td>−1</td>\n",
       "      <td>10</td>\n",
       "    </tr>\n",
       "    <tr>\n",
       "      <th>2</th>\n",
       "      <td>3</td>\n",
       "      <td>Panathinaikos</td>\n",
       "      <td>6</td>\n",
       "      <td>2</td>\n",
       "      <td>3</td>\n",
       "      <td>1</td>\n",
       "      <td>11</td>\n",
       "      <td>8</td>\n",
       "      <td>+3</td>\n",
       "      <td>9</td>\n",
       "    </tr>\n",
       "    <tr>\n",
       "      <th>3</th>\n",
       "      <td>4</td>\n",
       "      <td>Rosenborg</td>\n",
       "      <td>6</td>\n",
       "      <td>0</td>\n",
       "      <td>2</td>\n",
       "      <td>4</td>\n",
       "      <td>6</td>\n",
       "      <td>13</td>\n",
       "      <td>−7</td>\n",
       "      <td>2</td>\n",
       "    </tr>\n",
       "  </tbody>\n",
       "</table>\n",
       "</div>"
      ],
      "text/plain": [
       "  Pos           Team Pld  W  D  L  GF  GA  GD Pts\n",
       "0   1        Arsenal   6  2  4  0  11   6  +5  10\n",
       "1   2  PSV Eindhoven   6  3  1  2   6   7  −1  10\n",
       "2   3  Panathinaikos   6  2  3  1  11   8  +3   9\n",
       "3   4      Rosenborg   6  0  2  4   6  13  −7   2"
      ]
     },
     "execution_count": 362,
     "metadata": {},
     "output_type": "execute_result"
    }
   ],
   "source": [
    "all_data = []\n",
    "\n",
    "for tr in group_A_all_info:\n",
    "    if isinstance(tr, NavigableString):\n",
    "        continue\n",
    "    if isinstance(tr, Tag):\n",
    "        th = tr.find(\"th\")\n",
    "        th.name = \"td\"\n",
    "        tds = [td.get_text(strip=True) for td in tr.select(\"td\")]\n",
    "        all_data.append(tds)\n",
    "    \n",
    "df = pd.DataFrame(all_data,columns=columns,)\n",
    "\n",
    "df"
   ]
  },
  {
   "cell_type": "code",
   "execution_count": null,
   "id": "7a96c8aa",
   "metadata": {},
   "outputs": [],
   "source": []
  }
 ],
 "metadata": {
  "kernelspec": {
   "display_name": "Python 3 (ipykernel)",
   "language": "python",
   "name": "python3"
  },
  "language_info": {
   "codemirror_mode": {
    "name": "ipython",
    "version": 3
   },
   "file_extension": ".py",
   "mimetype": "text/x-python",
   "name": "python",
   "nbconvert_exporter": "python",
   "pygments_lexer": "ipython3",
   "version": "3.10.9"
  }
 },
 "nbformat": 4,
 "nbformat_minor": 5
}
